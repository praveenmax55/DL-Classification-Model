{
 "cells": [
  {
   "cell_type": "code",
   "execution_count": 1,
   "id": "d7896a2c-b090-42ec-944b-e96d5fc17db8",
   "metadata": {},
   "outputs": [],
   "source": [
    "# DEVELOPED BY : PRAVEEN D\n",
    "# REGISTER NO : 212222240076"
   ]
  },
  {
   "cell_type": "code",
   "execution_count": 5,
   "id": "6555b7ba-7ec7-4a51-b95b-a879fb58d953",
   "metadata": {},
   "outputs": [],
   "source": [
    "import torch\n",
    "import torch.nn as nn\n",
    "import torch.optim as optim\n",
    "import torch.nn.functional as F\n",
    "import pandas as pd\n",
    "import numpy as np\n",
    "from sklearn.model_selection import train_test_split\n",
    "from sklearn.preprocessing import StandardScaler\n",
    "from sklearn.metrics import accuracy_score, confusion_matrix, classification_report\n",
    "from torch.utils.data import TensorDataset, DataLoader\n",
    "import seaborn as sns\n",
    "import matplotlib.pyplot as plt\n",
    "from sklearn.datasets import load_iris"
   ]
  },
  {
   "cell_type": "code",
   "execution_count": 6,
   "id": "0025799e-fee0-476a-855b-ee6094108f5b",
   "metadata": {},
   "outputs": [],
   "source": [
    "iris = load_iris()\n",
    "X = iris.data\n",
    "y = iris.target"
   ]
  },
  {
   "cell_type": "code",
   "execution_count": 7,
   "id": "db0b3a17-6582-4086-92ef-80cc06a9804d",
   "metadata": {},
   "outputs": [],
   "source": [
    "df = pd.DataFrame(X, columns=iris.feature_names)\n",
    "df['target'] = y"
   ]
  },
  {
   "cell_type": "code",
   "execution_count": 8,
   "id": "9077f832-61a1-49a4-8d24-031b92362e57",
   "metadata": {},
   "outputs": [
    {
     "name": "stdout",
     "output_type": "stream",
     "text": [
      "First 5 rows of dataset:\n",
      "    sepal length (cm)  sepal width (cm)  petal length (cm)  petal width (cm)  \\\n",
      "0                5.1               3.5                1.4               0.2   \n",
      "1                4.9               3.0                1.4               0.2   \n",
      "2                4.7               3.2                1.3               0.2   \n",
      "3                4.6               3.1                1.5               0.2   \n",
      "4                5.0               3.6                1.4               0.2   \n",
      "\n",
      "   target  \n",
      "0       0  \n",
      "1       0  \n",
      "2       0  \n",
      "3       0  \n",
      "4       0  \n",
      "\n",
      "Last 5 rows of dataset:\n",
      "      sepal length (cm)  sepal width (cm)  petal length (cm)  petal width (cm)  \\\n",
      "145                6.7               3.0                5.2               2.3   \n",
      "146                6.3               2.5                5.0               1.9   \n",
      "147                6.5               3.0                5.2               2.0   \n",
      "148                6.2               3.4                5.4               2.3   \n",
      "149                5.9               3.0                5.1               1.8   \n",
      "\n",
      "     target  \n",
      "145       2  \n",
      "146       2  \n",
      "147       2  \n",
      "148       2  \n",
      "149       2  \n"
     ]
    }
   ],
   "source": [
    "print(\"First 5 rows of dataset:\\n\", df.head())\n",
    "print(\"\\nLast 5 rows of dataset:\\n\", df.tail())"
   ]
  },
  {
   "cell_type": "code",
   "execution_count": 9,
   "id": "6acebadc-bdee-4d7b-a90b-cdd622413618",
   "metadata": {},
   "outputs": [],
   "source": [
    "X_train, X_test, y_train, y_test = train_test_split(X, y, test_size=0.2, random_state=42)"
   ]
  },
  {
   "cell_type": "code",
   "execution_count": 10,
   "id": "b45e4aa5-e991-436f-8511-57a1dcfb9fdb",
   "metadata": {},
   "outputs": [],
   "source": [
    "scaler = StandardScaler()\n",
    "X_train = scaler.fit_transform(X_train)\n",
    "X_test = scaler.transform(X_test)"
   ]
  },
  {
   "cell_type": "code",
   "execution_count": 11,
   "id": "74f74623-8072-40b0-a618-5e0bf6028ac0",
   "metadata": {},
   "outputs": [],
   "source": [
    "X_train = torch.tensor(X_train, dtype=torch.float32)\n",
    "X_test = torch.tensor(X_test, dtype=torch.float32)\n",
    "y_train = torch.tensor(y_train, dtype=torch.long)\n",
    "y_test = torch.tensor(y_test, dtype=torch.long)"
   ]
  },
  {
   "cell_type": "code",
   "execution_count": 12,
   "id": "7ddcc56a-c946-42d0-b957-22aafd6aca13",
   "metadata": {},
   "outputs": [],
   "source": [
    "train_dataset = TensorDataset(X_train, y_train)\n",
    "test_dataset = TensorDataset(X_test, y_test)\n",
    "train_loader = DataLoader(train_dataset, batch_size=16, shuffle=True)\n",
    "test_loader = DataLoader(test_dataset, batch_size=16)"
   ]
  },
  {
   "cell_type": "code",
   "execution_count": 13,
   "id": "ed13e92a-4180-44ab-812a-0e9f03eace0a",
   "metadata": {},
   "outputs": [],
   "source": [
    "class IrisClassifier(nn.Module):\n",
    "    def __init__(self, input_size):\n",
    "        super(IrisClassifier, self).__init__()\n",
    "        self.fc1 =nn.Linear(input_size,16)\n",
    "        self.fc2 =nn.Linear(16,8)\n",
    "        self.fc3 =nn.Linear(8,3)\n",
    "\n",
    "\n",
    "\n",
    "    def forward(self, x):\n",
    "        x=F.relu(self.fc1(x))\n",
    "        x=F.relu(self.fc2(x))\n",
    "        return self.fc3(x)"
   ]
  },
  {
   "cell_type": "code",
   "execution_count": 14,
   "id": "687aa8ce-613a-4116-a3c4-2f98e1984258",
   "metadata": {},
   "outputs": [],
   "source": [
    "def train_model(model, train_loader, criterion, optimizer, epochs):\n",
    "      for epoch in range(epochs):\n",
    "        model.train()\n",
    "        for X_batch, y_batch in train_loader:\n",
    "            optimizer.zero_grad()\n",
    "            outputs = model(X_batch)\n",
    "            loss = criterion(outputs, y_batch)\n",
    "            loss.backward()\n",
    "            optimizer.step()\n",
    "        if (epoch + 1) % 10 == 0:\n",
    "            print(f'Epoch [{epoch + 1}/{epochs}], Loss: {loss.item():.4f}')"
   ]
  },
  {
   "cell_type": "code",
   "execution_count": 15,
   "id": "876e675a-f000-4022-a7a7-f55b63a839f7",
   "metadata": {},
   "outputs": [],
   "source": [
    "model =IrisClassifier(input_size=X_train.shape[1])\n",
    "criterion =nn.CrossEntropyLoss()\n",
    "optimizer =optim.Adam(model.parameters(), lr=0.001)"
   ]
  },
  {
   "cell_type": "code",
   "execution_count": 16,
   "id": "db67c8c1-9aa6-4d9f-bb31-51309cde0526",
   "metadata": {},
   "outputs": [
    {
     "name": "stdout",
     "output_type": "stream",
     "text": [
      "Epoch [10/100], Loss: 0.9633\n",
      "Epoch [20/100], Loss: 0.7008\n",
      "Epoch [30/100], Loss: 0.2406\n",
      "Epoch [40/100], Loss: 0.3076\n",
      "Epoch [50/100], Loss: 0.4049\n",
      "Epoch [60/100], Loss: 0.2203\n",
      "Epoch [70/100], Loss: 0.1680\n",
      "Epoch [80/100], Loss: 0.1218\n",
      "Epoch [90/100], Loss: 0.0332\n",
      "Epoch [100/100], Loss: 0.0544\n"
     ]
    }
   ],
   "source": [
    "train_model(model, train_loader, criterion, optimizer, epochs=100)"
   ]
  },
  {
   "cell_type": "code",
   "execution_count": 17,
   "id": "62df4b6b-fdc2-49d2-b71f-f063e4f8915f",
   "metadata": {},
   "outputs": [],
   "source": [
    "model.eval()\n",
    "predictions, actuals = [], []\n",
    "with torch.no_grad():\n",
    "    for X_batch, y_batch in test_loader:\n",
    "        outputs = model(X_batch)\n",
    "        _, predicted = torch.max(outputs, 1)\n",
    "        predictions.extend(predicted.numpy())\n",
    "        actuals.extend(y_batch.numpy())"
   ]
  },
  {
   "cell_type": "code",
   "execution_count": 18,
   "id": "f70e72d3-70c9-43d9-981c-47a6c6b96130",
   "metadata": {},
   "outputs": [],
   "source": [
    "accuracy = accuracy_score(actuals, predictions)\n",
    "conf_matrix = confusion_matrix(actuals, predictions)\n",
    "class_report = classification_report(actuals, predictions, target_names=iris.target_names)"
   ]
  },
  {
   "cell_type": "code",
   "execution_count": 19,
   "id": "1d453d40-6a09-4d24-a9f6-c2fd74a7a565",
   "metadata": {},
   "outputs": [
    {
     "name": "stdout",
     "output_type": "stream",
     "text": [
      "\n",
      "Name: PRAVEEN D\n",
      "Register No: 212222240076\n",
      "Test Accuracy: 1.00%\n",
      "Confusion Matrix:\n",
      " [[10  0  0]\n",
      " [ 0  9  0]\n",
      " [ 0  0 11]]\n",
      "Classification Report:\n",
      "               precision    recall  f1-score   support\n",
      "\n",
      "      setosa       1.00      1.00      1.00        10\n",
      "  versicolor       1.00      1.00      1.00         9\n",
      "   virginica       1.00      1.00      1.00        11\n",
      "\n",
      "    accuracy                           1.00        30\n",
      "   macro avg       1.00      1.00      1.00        30\n",
      "weighted avg       1.00      1.00      1.00        30\n",
      "\n"
     ]
    }
   ],
   "source": [
    "print(\"\\nName: PRAVEEN D\")\n",
    "print(\"Register No: 212222240076\")\n",
    "print(f'Test Accuracy: {accuracy:.2f}%')\n",
    "print(\"Confusion Matrix:\\n\", conf_matrix)\n",
    "print(\"Classification Report:\\n\", class_report)"
   ]
  },
  {
   "cell_type": "code",
   "execution_count": 20,
   "id": "698ba32a-bd0d-4215-b02a-7364a3725db7",
   "metadata": {},
   "outputs": [
    {
     "data": {
      "image/png": "[encoded data removed]",
      "text/plain": [
       "<Figure size 600x500 with 2 Axes>"
      ]
     },
     "metadata": {},
     "output_type": "display_data"
    }
   ],
   "source": [
    "plt.figure(figsize=(6, 5))\n",
    "sns.heatmap(conf_matrix, annot=True, cmap='Blues', xticklabels=iris.target_names, yticklabels=iris.target_names, fmt='g')\n",
    "plt.xlabel(\"Predicted Labels\")\n",
    "plt.ylabel(\"True Labels\")\n",
    "plt.title(\"Confusion Matrix\")\n",
    "plt.show()"
   ]
  },
  {
   "cell_type": "code",
   "execution_count": 21,
   "id": "bcd98aad-6039-4f9c-af0d-e9e5f356fe0d",
   "metadata": {},
   "outputs": [],
   "source": [
    "sample_input = X_test[5].unsqueeze(0)  # Removed unnecessary .clone()\n",
    "with torch.no_grad():\n",
    "    output = model(sample_input)\n",
    "    predicted_class_index = torch.argmax(output[0]).item()\n",
    "    predicted_class_label = iris.target_names[predicted_class_index]"
   ]
  },
  {
   "cell_type": "code",
   "execution_count": 22,
   "id": "de93cf60-6dc8-464e-bb8e-ecf1e0618028",
   "metadata": {},
   "outputs": [
    {
     "name": "stdout",
     "output_type": "stream",
     "text": [
      "\n",
      "Name: PRAVEEN D\n",
      "Register No: 212222240076\n",
      "Predicted class for sample input: setosa\n",
      "Actual class for sample input: setosa\n"
     ]
    }
   ],
   "source": [
    "print(\"\\nName: PRAVEEN D\")\n",
    "print(\"Register No: 212222240076\")\n",
    "print(f'Predicted class for sample input: {predicted_class_label}')\n",
    "print(f'Actual class for sample input: {iris.target_names[y_test[5].item()]}')"
   ]
  },
  {
   "cell_type": "code",
   "execution_count": null,
   "id": "97d1d723-790d-4a8d-aebc-70e6e0df57e0",
   "metadata": {},
   "outputs": [],
   "source": []
  }
 ],
 "metadata": {
  "kernelspec": {
   "display_name": "Python 3 (ipykernel)",
   "language": "python",
   "name": "python3"
  },
  "language_info": {
   "codemirror_mode": {
    "name": "ipython",
    "version": 3
   },
   "file_extension": ".py",
   "mimetype": "text/x-python",
   "name": "python",
   "nbconvert_exporter": "python",
   "pygments_lexer": "ipython3",
   "version": "3.11.11"
  }
 },
 "nbformat": 4,
 "nbformat_minor": 5
}
